{
 "cells": [
  {
   "cell_type": "code",
   "execution_count": 12,
   "outputs": [],
   "source": [
    "import numpy as np\n",
    "import pandas as pd"
   ],
   "metadata": {
    "collapsed": false,
    "pycharm": {
     "name": "#%%\n"
    }
   }
  },
  {
   "cell_type": "code",
   "execution_count": 5,
   "outputs": [
    {
     "data": {
      "text/plain": "array([[ 0,  1,  2,  3,  4,  5,  6,  7,  8,  9],\n       [10, 11, 12, 13, 14, 15, 16, 17, 18, 19],\n       [20, 21, 22, 23, 24, 25, 26, 27, 28, 29],\n       [30, 31, 32, 33, 34, 35, 36, 37, 38, 39],\n       [40, 41, 42, 43, 44, 45, 46, 47, 48, 49],\n       [50, 51, 52, 53, 54, 55, 56, 57, 58, 59],\n       [60, 61, 62, 63, 64, 65, 66, 67, 68, 69],\n       [70, 71, 72, 73, 74, 75, 76, 77, 78, 79],\n       [80, 81, 82, 83, 84, 85, 86, 87, 88, 89],\n       [90, 91, 92, 93, 94, 95, 96, 97, 98, 99]])"
     },
     "execution_count": 5,
     "metadata": {},
     "output_type": "execute_result"
    }
   ],
   "source": [
    "mat = np.arange(0, 100).reshape(10, 10)\n",
    "mat"
   ],
   "metadata": {
    "collapsed": false,
    "pycharm": {
     "name": "#%%\n"
    }
   }
  },
  {
   "cell_type": "code",
   "execution_count": 11,
   "outputs": [
    {
     "data": {
      "text/plain": "array([50, 51, 52, 53, 54, 55, 56, 57, 58, 59])"
     },
     "execution_count": 11,
     "metadata": {},
     "output_type": "execute_result"
    }
   ],
   "source": [
    "mat[5]"
   ],
   "metadata": {
    "collapsed": false,
    "pycharm": {
     "name": "#%%\n"
    }
   }
  },
  {
   "cell_type": "code",
   "execution_count": 19,
   "outputs": [
    {
     "name": "stdout",
     "output_type": "stream",
     "text": [
      "     Name  Salary  Age\n",
      "0    John   50000   34\n",
      "1   Sally  120000   45\n",
      "2  Alyssa   80000   27\n"
     ]
    }
   ],
   "source": [
    "df = pd.read_csv('0-02-Pandas-Crash-Course/salaries.csv')\n",
    "print(df)"
   ],
   "metadata": {
    "collapsed": false,
    "pycharm": {
     "name": "#%%\n"
    }
   }
  },
  {
   "cell_type": "code",
   "execution_count": 20,
   "outputs": [
    {
     "name": "stdout",
     "output_type": "stream",
     "text": [
      "0      John\n",
      "1     Sally\n",
      "2    Alyssa\n",
      "Name: Name, dtype: object\n",
      "0     50000\n",
      "1    120000\n",
      "2     80000\n",
      "Name: Salary, dtype: int64\n"
     ]
    }
   ],
   "source": [
    "print(df['Name'])\n",
    "print(df['Salary'])"
   ],
   "metadata": {
    "collapsed": false,
    "pycharm": {
     "name": "#%%\n"
    }
   }
  },
  {
   "cell_type": "code",
   "execution_count": 21,
   "outputs": [
    {
     "name": "stdout",
     "output_type": "stream",
     "text": [
      "     Name  Salary\n",
      "0    John   50000\n",
      "1   Sally  120000\n",
      "2  Alyssa   80000\n"
     ]
    }
   ],
   "source": [
    "# note the double brackets / passing a list\n",
    "print(df[['Name', 'Salary']])"
   ],
   "metadata": {
    "collapsed": false,
    "pycharm": {
     "name": "#%%\n"
    }
   }
  },
  {
   "cell_type": "code",
   "execution_count": 22,
   "outputs": [
    {
     "name": "stdout",
     "output_type": "stream",
     "text": [
      "35.333333333333336\n"
     ]
    }
   ],
   "source": [
    "print(df['Age'].mean())"
   ],
   "metadata": {
    "collapsed": false,
    "pycharm": {
     "name": "#%%\n"
    }
   }
  },
  {
   "cell_type": "code",
   "execution_count": 23,
   "outputs": [
    {
     "name": "stdout",
     "output_type": "stream",
     "text": [
      "0     True\n",
      "1     True\n",
      "2    False\n",
      "Name: Age, dtype: bool\n"
     ]
    }
   ],
   "source": [
    "# create the filter\n",
    "ser_of_bool = df['Age'] > 30\n",
    "print(ser_of_bool)"
   ],
   "metadata": {
    "collapsed": false,
    "pycharm": {
     "name": "#%%\n"
    }
   }
  },
  {
   "cell_type": "code",
   "execution_count": 25,
   "outputs": [
    {
     "name": "stdout",
     "output_type": "stream",
     "text": [
      "    Name  Salary  Age\n",
      "0   John   50000   34\n",
      "1  Sally  120000   45\n"
     ]
    }
   ],
   "source": [
    "# apply the filter\n",
    "age_filter = df['Age'] > 30\n",
    "print(df[age_filter])"
   ],
   "metadata": {
    "collapsed": false,
    "pycharm": {
     "name": "#%%\n"
    }
   }
  },
  {
   "cell_type": "code",
   "execution_count": 26,
   "outputs": [
    {
     "data": {
      "text/plain": "    Name  Salary  Age\n0   John   50000   34\n1  Sally  120000   45",
      "text/html": "<div>\n<style scoped>\n    .dataframe tbody tr th:only-of-type {\n        vertical-align: middle;\n    }\n\n    .dataframe tbody tr th {\n        vertical-align: top;\n    }\n\n    .dataframe thead th {\n        text-align: right;\n    }\n</style>\n<table border=\"1\" class=\"dataframe\">\n  <thead>\n    <tr style=\"text-align: right;\">\n      <th></th>\n      <th>Name</th>\n      <th>Salary</th>\n      <th>Age</th>\n    </tr>\n  </thead>\n  <tbody>\n    <tr>\n      <th>0</th>\n      <td>John</td>\n      <td>50000</td>\n      <td>34</td>\n    </tr>\n    <tr>\n      <th>1</th>\n      <td>Sally</td>\n      <td>120000</td>\n      <td>45</td>\n    </tr>\n  </tbody>\n</table>\n</div>"
     },
     "execution_count": 26,
     "metadata": {},
     "output_type": "execute_result"
    }
   ],
   "source": [
    "# put filter directly in []\n",
    "df[df['Age'] > 30]"
   ],
   "metadata": {
    "collapsed": false,
    "pycharm": {
     "name": "#%%\n"
    }
   }
  },
  {
   "cell_type": "code",
   "execution_count": 31,
   "outputs": [
    {
     "data": {
      "text/plain": "RangeIndex(start=0, stop=3, step=1)"
     },
     "execution_count": 31,
     "metadata": {},
     "output_type": "execute_result"
    }
   ],
   "source": [
    "# df.info()  # General info about your dataframe\n",
    "# df.describe()  # Statistics about your dataframe\n",
    "# df.columns  # Grab a list of all columns\n",
    "df.index  # Create an index list"
   ],
   "metadata": {
    "collapsed": false,
    "pycharm": {
     "name": "#%%\n"
    }
   }
  },
  {
   "cell_type": "code",
   "execution_count": 34,
   "outputs": [
    {
     "data": {
      "text/plain": "   A  B\n0  0  1\n1  2  3\n2  4  5\n3  6  7\n4  8  9",
      "text/html": "<div>\n<style scoped>\n    .dataframe tbody tr th:only-of-type {\n        vertical-align: middle;\n    }\n\n    .dataframe tbody tr th {\n        vertical-align: top;\n    }\n\n    .dataframe thead th {\n        text-align: right;\n    }\n</style>\n<table border=\"1\" class=\"dataframe\">\n  <thead>\n    <tr style=\"text-align: right;\">\n      <th></th>\n      <th>A</th>\n      <th>B</th>\n    </tr>\n  </thead>\n  <tbody>\n    <tr>\n      <th>0</th>\n      <td>0</td>\n      <td>1</td>\n    </tr>\n    <tr>\n      <th>1</th>\n      <td>2</td>\n      <td>3</td>\n    </tr>\n    <tr>\n      <th>2</th>\n      <td>4</td>\n      <td>5</td>\n    </tr>\n    <tr>\n      <th>3</th>\n      <td>6</td>\n      <td>7</td>\n    </tr>\n    <tr>\n      <th>4</th>\n      <td>8</td>\n      <td>9</td>\n    </tr>\n  </tbody>\n</table>\n</div>"
     },
     "execution_count": 34,
     "metadata": {},
     "output_type": "execute_result"
    }
   ],
   "source": [
    "# You can convert a numpy matrix to a dataframe with:\n",
    "mat = np.arange(10).reshape(5, 2)\n",
    "pd.DataFrame(mat, columns=['A', 'B'])"
   ],
   "metadata": {
    "collapsed": false,
    "pycharm": {
     "name": "#%%\n"
    }
   }
  },
  {
   "cell_type": "code",
   "execution_count": 38,
   "outputs": [
    {
     "data": {
      "text/plain": "     A   B   C   D\n0   93  40  28  56\n1   40   0  15  61\n2   29  23  82  33\n3   76  33  79  56\n4   84  12  33   8\n5   47  30  16  35\n6    0  32  66  11\n7   51  71  81  87\n8   66  15  57  94\n9   36  50  84  15\n10  92  15  67  23\n11  24  15  74  22\n12  54  69  54  59\n13  33  43  73  51\n14  53  58  93  92\n15  33  18   3  64\n16  27  97  80  30\n17  91  74  22  45\n18   2   5  99  44\n19  64  96   0  18\n20  26  96  50  33\n21  35  15  88  29\n22  52  81  71  19\n23  29  86  69  49\n24  13  94  57  31\n25  21  70   4  90\n26   9  44  33  37\n27  11  39  74  58\n28  28  73  19  24\n29  30  72  59   3\n30  38  47  50  79\n31  93  68  55  85\n32  75  15  17  98\n33  46  95  40  95\n34  32   0  24  18\n35  82  41  51  30\n36  78  54  87  89\n37  32  55  38  97\n38   9  62  35  39\n39  37  27  23  69\n40  13  21  43  23\n41  43  47  86  62\n42  28  38  73  23\n43  35  81  28  99\n44  78  54  63   9\n45  71  22  82  59\n46   9  87  16  68\n47  44  24  13  42\n48  51  89  32  18\n49  92  40  85  42",
      "text/html": "<div>\n<style scoped>\n    .dataframe tbody tr th:only-of-type {\n        vertical-align: middle;\n    }\n\n    .dataframe tbody tr th {\n        vertical-align: top;\n    }\n\n    .dataframe thead th {\n        text-align: right;\n    }\n</style>\n<table border=\"1\" class=\"dataframe\">\n  <thead>\n    <tr style=\"text-align: right;\">\n      <th></th>\n      <th>A</th>\n      <th>B</th>\n      <th>C</th>\n      <th>D</th>\n    </tr>\n  </thead>\n  <tbody>\n    <tr>\n      <th>0</th>\n      <td>93</td>\n      <td>40</td>\n      <td>28</td>\n      <td>56</td>\n    </tr>\n    <tr>\n      <th>1</th>\n      <td>40</td>\n      <td>0</td>\n      <td>15</td>\n      <td>61</td>\n    </tr>\n    <tr>\n      <th>2</th>\n      <td>29</td>\n      <td>23</td>\n      <td>82</td>\n      <td>33</td>\n    </tr>\n    <tr>\n      <th>3</th>\n      <td>76</td>\n      <td>33</td>\n      <td>79</td>\n      <td>56</td>\n    </tr>\n    <tr>\n      <th>4</th>\n      <td>84</td>\n      <td>12</td>\n      <td>33</td>\n      <td>8</td>\n    </tr>\n    <tr>\n      <th>5</th>\n      <td>47</td>\n      <td>30</td>\n      <td>16</td>\n      <td>35</td>\n    </tr>\n    <tr>\n      <th>6</th>\n      <td>0</td>\n      <td>32</td>\n      <td>66</td>\n      <td>11</td>\n    </tr>\n    <tr>\n      <th>7</th>\n      <td>51</td>\n      <td>71</td>\n      <td>81</td>\n      <td>87</td>\n    </tr>\n    <tr>\n      <th>8</th>\n      <td>66</td>\n      <td>15</td>\n      <td>57</td>\n      <td>94</td>\n    </tr>\n    <tr>\n      <th>9</th>\n      <td>36</td>\n      <td>50</td>\n      <td>84</td>\n      <td>15</td>\n    </tr>\n    <tr>\n      <th>10</th>\n      <td>92</td>\n      <td>15</td>\n      <td>67</td>\n      <td>23</td>\n    </tr>\n    <tr>\n      <th>11</th>\n      <td>24</td>\n      <td>15</td>\n      <td>74</td>\n      <td>22</td>\n    </tr>\n    <tr>\n      <th>12</th>\n      <td>54</td>\n      <td>69</td>\n      <td>54</td>\n      <td>59</td>\n    </tr>\n    <tr>\n      <th>13</th>\n      <td>33</td>\n      <td>43</td>\n      <td>73</td>\n      <td>51</td>\n    </tr>\n    <tr>\n      <th>14</th>\n      <td>53</td>\n      <td>58</td>\n      <td>93</td>\n      <td>92</td>\n    </tr>\n    <tr>\n      <th>15</th>\n      <td>33</td>\n      <td>18</td>\n      <td>3</td>\n      <td>64</td>\n    </tr>\n    <tr>\n      <th>16</th>\n      <td>27</td>\n      <td>97</td>\n      <td>80</td>\n      <td>30</td>\n    </tr>\n    <tr>\n      <th>17</th>\n      <td>91</td>\n      <td>74</td>\n      <td>22</td>\n      <td>45</td>\n    </tr>\n    <tr>\n      <th>18</th>\n      <td>2</td>\n      <td>5</td>\n      <td>99</td>\n      <td>44</td>\n    </tr>\n    <tr>\n      <th>19</th>\n      <td>64</td>\n      <td>96</td>\n      <td>0</td>\n      <td>18</td>\n    </tr>\n    <tr>\n      <th>20</th>\n      <td>26</td>\n      <td>96</td>\n      <td>50</td>\n      <td>33</td>\n    </tr>\n    <tr>\n      <th>21</th>\n      <td>35</td>\n      <td>15</td>\n      <td>88</td>\n      <td>29</td>\n    </tr>\n    <tr>\n      <th>22</th>\n      <td>52</td>\n      <td>81</td>\n      <td>71</td>\n      <td>19</td>\n    </tr>\n    <tr>\n      <th>23</th>\n      <td>29</td>\n      <td>86</td>\n      <td>69</td>\n      <td>49</td>\n    </tr>\n    <tr>\n      <th>24</th>\n      <td>13</td>\n      <td>94</td>\n      <td>57</td>\n      <td>31</td>\n    </tr>\n    <tr>\n      <th>25</th>\n      <td>21</td>\n      <td>70</td>\n      <td>4</td>\n      <td>90</td>\n    </tr>\n    <tr>\n      <th>26</th>\n      <td>9</td>\n      <td>44</td>\n      <td>33</td>\n      <td>37</td>\n    </tr>\n    <tr>\n      <th>27</th>\n      <td>11</td>\n      <td>39</td>\n      <td>74</td>\n      <td>58</td>\n    </tr>\n    <tr>\n      <th>28</th>\n      <td>28</td>\n      <td>73</td>\n      <td>19</td>\n      <td>24</td>\n    </tr>\n    <tr>\n      <th>29</th>\n      <td>30</td>\n      <td>72</td>\n      <td>59</td>\n      <td>3</td>\n    </tr>\n    <tr>\n      <th>30</th>\n      <td>38</td>\n      <td>47</td>\n      <td>50</td>\n      <td>79</td>\n    </tr>\n    <tr>\n      <th>31</th>\n      <td>93</td>\n      <td>68</td>\n      <td>55</td>\n      <td>85</td>\n    </tr>\n    <tr>\n      <th>32</th>\n      <td>75</td>\n      <td>15</td>\n      <td>17</td>\n      <td>98</td>\n    </tr>\n    <tr>\n      <th>33</th>\n      <td>46</td>\n      <td>95</td>\n      <td>40</td>\n      <td>95</td>\n    </tr>\n    <tr>\n      <th>34</th>\n      <td>32</td>\n      <td>0</td>\n      <td>24</td>\n      <td>18</td>\n    </tr>\n    <tr>\n      <th>35</th>\n      <td>82</td>\n      <td>41</td>\n      <td>51</td>\n      <td>30</td>\n    </tr>\n    <tr>\n      <th>36</th>\n      <td>78</td>\n      <td>54</td>\n      <td>87</td>\n      <td>89</td>\n    </tr>\n    <tr>\n      <th>37</th>\n      <td>32</td>\n      <td>55</td>\n      <td>38</td>\n      <td>97</td>\n    </tr>\n    <tr>\n      <th>38</th>\n      <td>9</td>\n      <td>62</td>\n      <td>35</td>\n      <td>39</td>\n    </tr>\n    <tr>\n      <th>39</th>\n      <td>37</td>\n      <td>27</td>\n      <td>23</td>\n      <td>69</td>\n    </tr>\n    <tr>\n      <th>40</th>\n      <td>13</td>\n      <td>21</td>\n      <td>43</td>\n      <td>23</td>\n    </tr>\n    <tr>\n      <th>41</th>\n      <td>43</td>\n      <td>47</td>\n      <td>86</td>\n      <td>62</td>\n    </tr>\n    <tr>\n      <th>42</th>\n      <td>28</td>\n      <td>38</td>\n      <td>73</td>\n      <td>23</td>\n    </tr>\n    <tr>\n      <th>43</th>\n      <td>35</td>\n      <td>81</td>\n      <td>28</td>\n      <td>99</td>\n    </tr>\n    <tr>\n      <th>44</th>\n      <td>78</td>\n      <td>54</td>\n      <td>63</td>\n      <td>9</td>\n    </tr>\n    <tr>\n      <th>45</th>\n      <td>71</td>\n      <td>22</td>\n      <td>82</td>\n      <td>59</td>\n    </tr>\n    <tr>\n      <th>46</th>\n      <td>9</td>\n      <td>87</td>\n      <td>16</td>\n      <td>68</td>\n    </tr>\n    <tr>\n      <th>47</th>\n      <td>44</td>\n      <td>24</td>\n      <td>13</td>\n      <td>42</td>\n    </tr>\n    <tr>\n      <th>48</th>\n      <td>51</td>\n      <td>89</td>\n      <td>32</td>\n      <td>18</td>\n    </tr>\n    <tr>\n      <th>49</th>\n      <td>92</td>\n      <td>40</td>\n      <td>85</td>\n      <td>42</td>\n    </tr>\n  </tbody>\n</table>\n</div>"
     },
     "execution_count": 38,
     "metadata": {},
     "output_type": "execute_result"
    }
   ],
   "source": [
    "random_numbers = np.random.randint(0, 100, 200)\n",
    "random_mat = random_numbers.reshape(50, 4)\n",
    "col_names = 'A B C D'.split()\n",
    "df = pd.DataFrame(data=random_mat, columns=col_names)\n",
    "df"
   ],
   "metadata": {
    "collapsed": false,
    "pycharm": {
     "name": "#%%\n"
    }
   }
  },
  {
   "cell_type": "code",
   "execution_count": 41,
   "outputs": [
    {
     "data": {
      "text/plain": "'file:///home/scott/PycharmProjects/Plotly-Dashboards-with-Dash/scatter1.html'"
     },
     "execution_count": 41,
     "metadata": {},
     "output_type": "execute_result"
    }
   ],
   "source": [
    "import plotly.offline as pyo\n",
    "import plotly.graph_objs as go\n",
    "import numpy as np\n",
    "\n",
    "np.random.seed(42)\n",
    "random_x = np.random.randint(1, 101, 100)\n",
    "random_y = np.random.randint(1, 101, 100)\n",
    "\n",
    "# list\n",
    "data = [go.Scatter(\n",
    "    x=random_x,\n",
    "    y=random_y,\n",
    "    mode='markers'\n",
    ")]\n",
    "\n",
    "pyo.plot(data, filename='scatter1.html')"
   ],
   "metadata": {
    "collapsed": false,
    "pycharm": {
     "name": "#%%\n"
    }
   }
  },
  {
   "cell_type": "code",
   "execution_count": 42,
   "outputs": [
    {
     "data": {
      "text/plain": "'file:///home/scott/PycharmProjects/Plotly-Dashboards-with-Dash/scatter2.html'"
     },
     "execution_count": 42,
     "metadata": {},
     "output_type": "execute_result"
    }
   ],
   "source": [
    "import plotly.offline as pyo\n",
    "import plotly.graph_objs as go\n",
    "import numpy as np\n",
    "\n",
    "np.random.seed(42)\n",
    "random_x = np.random.randint(1, 101, 100)\n",
    "random_y = np.random.randint(1, 101, 100)\n",
    "\n",
    "# list\n",
    "data = [go.Scatter(\n",
    "    x=random_x,\n",
    "    y=random_y,\n",
    "    mode='markers',\n",
    ")]\n",
    "\n",
    "layout = go.Layout(\n",
    "    # Graph title\n",
    "    title='Random Data Scatterplot',\n",
    "    # x-axis label\n",
    "    xaxis=dict(title='Some random x-values'),\n",
    "    # y-axis label\n",
    "    yaxis=dict(title='Some random y-values'),\n",
    "    # handles multiple points landing on the same vertical\n",
    "    hovermode='closest'\n",
    ")\n",
    "\n",
    "fig = go.Figure(data=data, layout=layout)\n",
    "pyo.plot(fig, filename='scatter2.html')"
   ],
   "metadata": {
    "collapsed": false,
    "pycharm": {
     "name": "#%%\n"
    }
   }
  },
  {
   "cell_type": "code",
   "execution_count": 44,
   "outputs": [
    {
     "data": {
      "text/plain": "'file:///home/scott/PycharmProjects/Plotly-Dashboards-with-Dash/scatter3.html'"
     },
     "execution_count": 44,
     "metadata": {},
     "output_type": "execute_result"
    }
   ],
   "source": [
    "import plotly.offline as pyo\n",
    "import plotly.graph_objs as go\n",
    "import numpy as np\n",
    "\n",
    "np.random.seed(42)\n",
    "random_x = np.random.randint(1, 101, 100)\n",
    "random_y = np.random.randint(1, 101, 100)\n",
    "\n",
    "data = [go.Scatter(\n",
    "    x=random_x,\n",
    "    y=random_y,\n",
    "    mode='markers',\n",
    "    marker=dict(  # change the marker style\n",
    "        size=12,\n",
    "        color='rgb(51,204,153)',\n",
    "        symbol='pentagon',\n",
    "        line=dict(\n",
    "            width=2,\n",
    "        )\n",
    "    )\n",
    ")]\n",
    "layout = go.Layout(\n",
    "    title='Random Data Scatterplot',  # Graph title\n",
    "    xaxis=dict(title='Some random x-values'),  # x-axis label\n",
    "    yaxis=dict(title='Some random y-values'),  # y-axis label\n",
    "    hovermode='closest'  # handles multiple points landing on the same vertical\n",
    ")\n",
    "fig = go.Figure(data=data, layout=layout)\n",
    "pyo.plot(fig, filename='scatter3.html')"
   ],
   "metadata": {
    "collapsed": false,
    "pycharm": {
     "name": "#%%\n"
    }
   }
  },
  {
   "cell_type": "code",
   "execution_count": 45,
   "outputs": [
    {
     "ename": "ImportError",
     "evalue": "attempted relative import with no known parent package",
     "output_type": "error",
     "traceback": [
      "\u001B[0;31m---------------------------------------------------------------------------\u001B[0m",
      "\u001B[0;31mImportError\u001B[0m                               Traceback (most recent call last)",
      "Input \u001B[0;32mIn [45]\u001B[0m, in \u001B[0;36m<module>\u001B[0;34m\u001B[0m\n\u001B[1;32m      7\u001B[0m \u001B[38;5;28;01mfrom\u001B[39;00m \u001B[38;5;21;01mdash\u001B[39;00m \u001B[38;5;28;01mimport\u001B[39;00m Dash\n\u001B[1;32m      8\u001B[0m \u001B[38;5;28;01mfrom\u001B[39;00m \u001B[38;5;21;01mdash\u001B[39;00m\u001B[38;5;21;01m.\u001B[39;00m\u001B[38;5;21;01mdependencies\u001B[39;00m \u001B[38;5;28;01mimport\u001B[39;00m Input, State, Output\n\u001B[0;32m----> 9\u001B[0m \u001B[38;5;28;01mfrom\u001B[39;00m \u001B[38;5;21;01m.\u001B[39;00m\u001B[38;5;21;01mDash_fun\u001B[39;00m \u001B[38;5;28;01mimport\u001B[39;00m apply_layout_with_auth, load_object, save_object\n\u001B[1;32m     10\u001B[0m \u001B[38;5;28;01mimport\u001B[39;00m \u001B[38;5;21;01mdash_core_components\u001B[39;00m \u001B[38;5;28;01mas\u001B[39;00m \u001B[38;5;21;01mdcc\u001B[39;00m\n\u001B[1;32m     11\u001B[0m \u001B[38;5;28;01mimport\u001B[39;00m \u001B[38;5;21;01mdash_html_components\u001B[39;00m \u001B[38;5;28;01mas\u001B[39;00m \u001B[38;5;21;01mhtml\u001B[39;00m\n",
      "\u001B[0;31mImportError\u001B[0m: attempted relative import with no known parent package"
     ]
    }
   ],
   "source": [],
   "metadata": {
    "collapsed": false,
    "pycharm": {
     "name": "#%%\n"
    }
   }
  }
 ],
 "metadata": {
  "kernelspec": {
   "display_name": "Python 3",
   "language": "python",
   "name": "python3"
  },
  "language_info": {
   "codemirror_mode": {
    "name": "ipython",
    "version": 2
   },
   "file_extension": ".py",
   "mimetype": "text/x-python",
   "name": "python",
   "nbconvert_exporter": "python",
   "pygments_lexer": "ipython2",
   "version": "2.7.6"
  }
 },
 "nbformat": 4,
 "nbformat_minor": 0
}